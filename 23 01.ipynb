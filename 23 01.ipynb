{
 "cells": [
  {
   "cell_type": "code",
   "execution_count": 29,
   "metadata": {},
   "outputs": [],
   "source": [
    "# ws01\n",
    "\n",
    "from sklearn.feature_extraction.text import TfidfVectorizer\n",
    "\n",
    "a = 'the Sun of beach and beach'\n",
    "b = 'moon earth moon'\n",
    "\n",
    "text = [a,b]\n",
    "\n",
    "tfv = TfidfVectorizer(stop_words='english')\n",
    "matrix = tfv.fit_transform(text)"
   ]
  },
  {
   "cell_type": "code",
   "execution_count": 30,
   "metadata": {},
   "outputs": [
    {
     "name": "stdout",
     "output_type": "stream",
     "text": [
      "['beach' 'earth' 'moon' 'sun']\n",
      "[[0.894 0.    0.    0.447]\n",
      " [0.    0.447 0.894 0.   ]]\n"
     ]
    },
    {
     "data": {
      "text/html": [
       "<div>\n",
       "<style scoped>\n",
       "    .dataframe tbody tr th:only-of-type {\n",
       "        vertical-align: middle;\n",
       "    }\n",
       "\n",
       "    .dataframe tbody tr th {\n",
       "        vertical-align: top;\n",
       "    }\n",
       "\n",
       "    .dataframe thead th {\n",
       "        text-align: right;\n",
       "    }\n",
       "</style>\n",
       "<table border=\"1\" class=\"dataframe\">\n",
       "  <thead>\n",
       "    <tr style=\"text-align: right;\">\n",
       "      <th></th>\n",
       "      <th>beach</th>\n",
       "      <th>earth</th>\n",
       "      <th>moon</th>\n",
       "      <th>sun</th>\n",
       "    </tr>\n",
       "  </thead>\n",
       "  <tbody>\n",
       "    <tr>\n",
       "      <th>a</th>\n",
       "      <td>0.894</td>\n",
       "      <td>0.000</td>\n",
       "      <td>0.000</td>\n",
       "      <td>0.447</td>\n",
       "    </tr>\n",
       "    <tr>\n",
       "      <th>b</th>\n",
       "      <td>0.000</td>\n",
       "      <td>0.447</td>\n",
       "      <td>0.894</td>\n",
       "      <td>0.000</td>\n",
       "    </tr>\n",
       "  </tbody>\n",
       "</table>\n",
       "</div>"
      ],
      "text/plain": [
       "   beach  earth   moon    sun\n",
       "a  0.894  0.000  0.000  0.447\n",
       "b  0.000  0.447  0.894  0.000"
      ]
     },
     "execution_count": 30,
     "metadata": {},
     "output_type": "execute_result"
    }
   ],
   "source": [
    "print(tfv.get_feature_names_out())\n",
    "print(matrix.toarray().round(3))\n",
    "\n",
    "\n",
    "import pandas as pd\n",
    "matrix = matrix.todense()  # or toarray matrix = matrix.toarray()\n",
    "df = pd.DataFrame(matrix, columns=tfv.get_feature_names_out(), \n",
    "                  index=['a','b'])\n",
    "df.round(3)"
   ]
  },
  {
   "cell_type": "code",
   "execution_count": 31,
   "metadata": {},
   "outputs": [
    {
     "data": {
      "text/html": [
       "<div>\n",
       "<style scoped>\n",
       "    .dataframe tbody tr th:only-of-type {\n",
       "        vertical-align: middle;\n",
       "    }\n",
       "\n",
       "    .dataframe tbody tr th {\n",
       "        vertical-align: top;\n",
       "    }\n",
       "\n",
       "    .dataframe thead th {\n",
       "        text-align: right;\n",
       "    }\n",
       "</style>\n",
       "<table border=\"1\" class=\"dataframe\">\n",
       "  <thead>\n",
       "    <tr style=\"text-align: right;\">\n",
       "      <th></th>\n",
       "      <th>beach</th>\n",
       "      <th>earth</th>\n",
       "      <th>moon</th>\n",
       "      <th>sun</th>\n",
       "    </tr>\n",
       "  </thead>\n",
       "  <tbody>\n",
       "    <tr>\n",
       "      <th>a</th>\n",
       "      <td>0.942</td>\n",
       "      <td>0.000</td>\n",
       "      <td>0.000</td>\n",
       "      <td>0.335</td>\n",
       "    </tr>\n",
       "    <tr>\n",
       "      <th>b</th>\n",
       "      <td>0.000</td>\n",
       "      <td>0.426</td>\n",
       "      <td>0.852</td>\n",
       "      <td>0.303</td>\n",
       "    </tr>\n",
       "  </tbody>\n",
       "</table>\n",
       "</div>"
      ],
      "text/plain": [
       "   beach  earth   moon    sun\n",
       "a  0.942  0.000  0.000  0.335\n",
       "b  0.000  0.426  0.852  0.303"
      ]
     },
     "execution_count": 31,
     "metadata": {},
     "output_type": "execute_result"
    }
   ],
   "source": [
    "# case 2\n",
    "a = 'sun beach beach'\n",
    "b = 'Sun moon earth moon'\n",
    "\n",
    "text = [a,b]\n",
    "tfv = TfidfVectorizer()\n",
    "matrix = tfv.fit_transform(text)\n",
    "matrix = matrix.todense()\n",
    "df = pd.DataFrame(matrix, columns=tfv.get_feature_names_out(), \n",
    "                  index=['a','b'])\n",
    "df.round(3)"
   ]
  },
  {
   "cell_type": "code",
   "execution_count": 32,
   "metadata": {},
   "outputs": [
    {
     "name": "stdout",
     "output_type": "stream",
     "text": [
      "[[0.94215562 0.         0.         0.33517574]\n",
      " [0.         0.4261596  0.8523192  0.30321606]]\n"
     ]
    }
   ],
   "source": [
    "print(matrix)"
   ]
  },
  {
   "cell_type": "code",
   "execution_count": 33,
   "metadata": {},
   "outputs": [
    {
     "data": {
      "text/plain": [
       "(2, 4)"
      ]
     },
     "execution_count": 33,
     "metadata": {},
     "output_type": "execute_result"
    }
   ],
   "source": [
    "df.shape"
   ]
  },
  {
   "cell_type": "code",
   "execution_count": 34,
   "metadata": {},
   "outputs": [
    {
     "name": "stdout",
     "output_type": "stream",
     "text": [
      "['an' 'beach' 'earth' 'in' 'is' 'moon' 'object' 'sky' 'sun' 'the']\n",
      "[[0.    0.861 0.    0.    0.    0.    0.    0.    0.509 0.   ]\n",
      " [0.    0.    0.652 0.    0.    0.652 0.    0.    0.385 0.   ]\n",
      " [0.327 0.    0.    0.327 0.327 0.    0.327 0.327 0.193 0.654]]\n"
     ]
    },
    {
     "data": {
      "text/html": [
       "<div>\n",
       "<style scoped>\n",
       "    .dataframe tbody tr th:only-of-type {\n",
       "        vertical-align: middle;\n",
       "    }\n",
       "\n",
       "    .dataframe tbody tr th {\n",
       "        vertical-align: top;\n",
       "    }\n",
       "\n",
       "    .dataframe thead th {\n",
       "        text-align: right;\n",
       "    }\n",
       "</style>\n",
       "<table border=\"1\" class=\"dataframe\">\n",
       "  <thead>\n",
       "    <tr style=\"text-align: right;\">\n",
       "      <th></th>\n",
       "      <th>an</th>\n",
       "      <th>beach</th>\n",
       "      <th>earth</th>\n",
       "      <th>in</th>\n",
       "      <th>is</th>\n",
       "      <th>moon</th>\n",
       "      <th>object</th>\n",
       "      <th>sky</th>\n",
       "      <th>sun</th>\n",
       "      <th>the</th>\n",
       "    </tr>\n",
       "  </thead>\n",
       "  <tbody>\n",
       "    <tr>\n",
       "      <th>a</th>\n",
       "      <td>0.000</td>\n",
       "      <td>0.861</td>\n",
       "      <td>0.000</td>\n",
       "      <td>0.000</td>\n",
       "      <td>0.000</td>\n",
       "      <td>0.000</td>\n",
       "      <td>0.000</td>\n",
       "      <td>0.000</td>\n",
       "      <td>0.509</td>\n",
       "      <td>0.000</td>\n",
       "    </tr>\n",
       "    <tr>\n",
       "      <th>b</th>\n",
       "      <td>0.000</td>\n",
       "      <td>0.000</td>\n",
       "      <td>0.652</td>\n",
       "      <td>0.000</td>\n",
       "      <td>0.000</td>\n",
       "      <td>0.652</td>\n",
       "      <td>0.000</td>\n",
       "      <td>0.000</td>\n",
       "      <td>0.385</td>\n",
       "      <td>0.000</td>\n",
       "    </tr>\n",
       "    <tr>\n",
       "      <th>c</th>\n",
       "      <td>0.327</td>\n",
       "      <td>0.000</td>\n",
       "      <td>0.000</td>\n",
       "      <td>0.327</td>\n",
       "      <td>0.327</td>\n",
       "      <td>0.000</td>\n",
       "      <td>0.327</td>\n",
       "      <td>0.327</td>\n",
       "      <td>0.193</td>\n",
       "      <td>0.654</td>\n",
       "    </tr>\n",
       "  </tbody>\n",
       "</table>\n",
       "</div>"
      ],
      "text/plain": [
       "      an  beach  earth     in     is   moon  object    sky    sun    the\n",
       "a  0.000  0.861  0.000  0.000  0.000  0.000   0.000  0.000  0.509  0.000\n",
       "b  0.000  0.000  0.652  0.000  0.000  0.652   0.000  0.000  0.385  0.000\n",
       "c  0.327  0.000  0.000  0.327  0.327  0.000   0.327  0.327  0.193  0.654"
      ]
     },
     "execution_count": 34,
     "metadata": {},
     "output_type": "execute_result"
    }
   ],
   "source": [
    "# ws02\n",
    "\n",
    "a = 'sun beach'\n",
    "b = 'Sun moon earth'\n",
    "c = 'the sun is an object in the sky'\n",
    "\n",
    "text = [a,b,c]\n",
    "\n",
    "tfv = TfidfVectorizer()\n",
    "matrix = tfv.fit_transform(text)\n",
    "\n",
    "print(tfv.get_feature_names_out())\n",
    "print(matrix.toarray().round(3))\n",
    "\n",
    "\n",
    "import pandas as pd\n",
    "matrix = matrix.todense()\n",
    "df = pd.DataFrame(matrix, columns=tfv.get_feature_names_out(), \n",
    "                  index=['a','b','c'])\n",
    "df.round(3)\n"
   ]
  },
  {
   "cell_type": "code",
   "execution_count": 35,
   "metadata": {},
   "outputs": [
    {
     "name": "stdout",
     "output_type": "stream",
     "text": [
      "[[0.         0.861037   0.         0.         0.         0.\n",
      "  0.         0.         0.50854232 0.        ]\n",
      " [0.         0.         0.65249088 0.         0.         0.65249088\n",
      "  0.         0.         0.38537163 0.        ]\n",
      " [0.32705548 0.         0.         0.32705548 0.32705548 0.\n",
      "  0.32705548 0.32705548 0.19316423 0.65411096]]\n"
     ]
    }
   ],
   "source": [
    "print(matrix)"
   ]
  },
  {
   "cell_type": "code",
   "execution_count": 36,
   "metadata": {},
   "outputs": [
    {
     "data": {
      "text/plain": [
       "(3, 10)"
      ]
     },
     "execution_count": 36,
     "metadata": {},
     "output_type": "execute_result"
    }
   ],
   "source": [
    "df.shape"
   ]
  },
  {
   "cell_type": "code",
   "execution_count": null,
   "metadata": {},
   "outputs": [],
   "source": []
  }
 ],
 "metadata": {
  "kernelspec": {
   "display_name": "Python 3",
   "language": "python",
   "name": "python3"
  },
  "language_info": {
   "codemirror_mode": {
    "name": "ipython",
    "version": 3
   },
   "file_extension": ".py",
   "mimetype": "text/x-python",
   "name": "python",
   "nbconvert_exporter": "python",
   "pygments_lexer": "ipython3",
   "version": "3.11.9"
  }
 },
 "nbformat": 4,
 "nbformat_minor": 4
}
